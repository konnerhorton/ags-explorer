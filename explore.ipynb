{
 "cells": [
  {
   "cell_type": "code",
   "execution_count": 1,
   "metadata": {},
   "outputs": [],
   "source": [
    "from python_ags4 import AGS4\n",
    "import pandas as pd\n",
    "import numpy as np\n",
    "from collections import OrderedDict\n",
    "import plotly.express as px\n",
    "import yaml\n",
    "import plotly.io as pio\n",
    "from scipy.interpolate import interp1d\n",
    "import warnings\n",
    "\n",
    "# Suppress future warnings\n",
    "warnings.simplefilter(action=\"ignore\", category=FutureWarning)\n",
    "import re\n",
    "import scripts.ags as ags\n",
    "import scripts.plots as plots\n",
    "\n",
    "## Set plotting template\n",
    "pio.templates[\"simple_white\"][\"layout\"][\"xaxis\"][\"mirror\"] = True\n",
    "pio.templates[\"simple_white\"][\"layout\"][\"yaxis\"][\"mirror\"] = True\n",
    "pio.templates[\"simple_white\"][\"layout\"][\"xaxis\"][\"showgrid\"] = True\n",
    "pio.templates[\"simple_white\"][\"layout\"][\"yaxis\"][\"showgrid\"] = True\n",
    "pio.templates[\"simple_white\"][\"layout\"][\"font\"][\"family\"] = \"Arial Narrow\"\n",
    "pio.templates.default = \"simple_white\""
   ]
  },
  {
   "cell_type": "code",
   "execution_count": 3,
   "metadata": {},
   "outputs": [
    {
     "data": {
      "text/plain": [
       "0      970.21\n",
       "1      967.71\n",
       "2      965.21\n",
       "3      962.71\n",
       "4      972.77\n",
       "        ...  \n",
       "251    872.50\n",
       "252    870.00\n",
       "253    803.19\n",
       "254    947.40\n",
       "255    944.90\n",
       "Name: Top Elevation, Length: 256, dtype: float64"
      ]
     },
     "execution_count": 3,
     "metadata": {},
     "output_type": "execute_result"
    }
   ],
   "source": [
    "with open(\"config.yaml\", \"r\") as f:\n",
    "    config = yaml.safe_load(f)\n",
    "path = config[\"AGS_PATH\"]\n",
    "data = ags.AGSdata(path)\n",
    "# df0 = data.dfs[\"ISPT\"][[\"LOCA_ID\", \"ISPT_TOP\", \"ISPT_NVAL\"]]\n",
    "# df1 = data.dfs[\"GEOL\"]\n",
    "# df1 = df1[[\"LOCA_ID\", \"GEOL_TOP\", \"GEOL_BASE\", \"GEOL_LEG\"]].loc[df1[\"GEOL_LEG\"] != \"\"]\n",
    "# for c in [\"GEOL_TOP\", \"GEOL_BASE\"]:\n",
    "#     df1[c] = df1[c].astype(float)\n",
    "# import duckdb\n",
    "\n",
    "# target_depth = \"ISPT_TOP\"\n",
    "# sql_query = f\"\"\"SELECT df0.LOCA_ID,\n",
    "#     df0['Top Elevation'],\n",
    "#     df0.{target_depth},\n",
    "#     df1.GEOL_LEG,\n",
    "#     df1.GEOL_TOP,\n",
    "#     df1.GEOL_BASE\n",
    "#     FROM df0\n",
    "#     LEFT JOIN df1\n",
    "#     on df0.LOCA_ID = df1.LOCA_ID\n",
    "#     and df0.{target_depth}\n",
    "#     BETWEEN df1.GEOL_TOP\n",
    "#     and df1.GEOL_BASE;\"\"\"\n",
    "\n",
    "# results = duckdb.sql(f\"{sql_query}\").df()\n",
    "# results.sort_values([\"LOCA_ID\", \"ISPT_TOP\"])"
   ]
  },
  {
   "cell_type": "code",
   "execution_count": null,
   "metadata": {},
   "outputs": [],
   "source": []
  }
 ],
 "metadata": {
  "kernelspec": {
   "display_name": "ags",
   "language": "python",
   "name": "python3"
  },
  "language_info": {
   "codemirror_mode": {
    "name": "ipython",
    "version": 3
   },
   "file_extension": ".py",
   "mimetype": "text/x-python",
   "name": "python",
   "nbconvert_exporter": "python",
   "pygments_lexer": "ipython3",
   "version": "3.12.1"
  }
 },
 "nbformat": 4,
 "nbformat_minor": 2
}
